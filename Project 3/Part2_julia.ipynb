{
 "cells": [
  {
   "cell_type": "markdown",
   "id": "124ef8f2",
   "metadata": {},
   "source": [
    "## PART 2"
   ]
  },
  {
   "cell_type": "markdown",
   "id": "7af1cbe8",
   "metadata": {},
   "source": [
    "# Problem 3"
   ]
  },
  {
   "cell_type": "code",
   "execution_count": null,
   "id": "4612d2b3",
   "metadata": {},
   "outputs": [],
   "source": [
    "using CSV, DataFrames\n",
    "filepath = \"Project 3\\interpolated_height.csv\"\n",
    "df = CSV.read(filepath, DataFrame)\n",
    "H = df[:, 2]\t"
   ]
  },
  {
   "cell_type": "code",
   "execution_count": null,
   "id": "e588864f",
   "metadata": {},
   "outputs": [],
   "source": [
    "using GLPK, Cbc, JuMP, SparseArrays\n",
    "\n",
    "H = [\n",
    "10\n",
    "30\n",
    "70\n",
    "50\n",
    "70\n",
    "120\n",
    "140\n",
    "120\n",
    "100\n",
    "80\n",
    "]\n",
    "\n",
    "\n",
    "K = [\n",
    "300 140 40\n",
    "]\n",
    "\n",
    "\n",
    "function constructA(H,K)\n",
    "    # Make a function that returns A when given H and K\n",
    "    return A\n",
    "end\n",
    "\n",
    "# A should be structured as follows\n",
    "A = [300.0  140.0   40.0    0.0    0.0    0.0    0.0    0.0    0.0    0.0\n",
    "     140.0  300.0  140.0   40.0    0.0    0.0    0.0    0.0    0.0    0.0\n",
    "      40.0  140.0  300.0  140.0   40.0    0.0    0.0    0.0    0.0    0.0\n",
    "       0.0   40.0  140.0  300.0  140.0   40.0    0.0    0.0    0.0    0.0\n",
    "       0.0    0.0   40.0  140.0  300.0  140.0   40.0    0.0    0.0    0.0\n",
    "       0.0    0.0    0.0   40.0  140.0  300.0  140.0   40.0    0.0    0.0\n",
    "       0.0    0.0    0.0    0.0   40.0  140.0  300.0  140.0   40.0    0.0\n",
    "       0.0    0.0    0.0    0.0    0.0   40.0  140.0  300.0  140.0   40.0\n",
    "       0.0    0.0    0.0    0.0    0.0    0.0   40.0  140.0  300.0  140.0\n",
    "       0.0    0.0    0.0    0.0    0.0    0.0    0.0   40.0  140.0  300.0\n",
    "]\n",
    "\n",
    "\n",
    "function solveIP(H, K)\n",
    "    h = length(H)\n",
    "    myModel = Model(Cbc.Optimizer)\n",
    "    # If your want ot use GLPK instead use:\n",
    "    #myModel = Model(GLPK.Optimizer)\n",
    "\n",
    "    A = constructA(H,K)\n",
    "\n",
    "    @variable(myModel, x[1:h], Bin )\n",
    "    @variable(myModel, R[1:h] >= 0 )\n",
    "\n",
    "    @objective(myModel, Min, sum(x[j] for j=1:h) )\n",
    "\n",
    "    @constraint(myModel, [j=1:h],R[j] >= H[j] + 10 )\n",
    "    @constraint(myModel, [i=1:h],R[i] == sum(A[i,j]*x[j] for j=1:h) )\n",
    "\n",
    "    optimize!(myModel)\n",
    "\n",
    "    if termination_status(myModel) == MOI.OPTIMAL\n",
    "        println(\"Objective value: \", JuMP.objective_value(myModel))\n",
    "        println(\"x = \", JuMP.value.(x))\n",
    "        println(\"R = \", JuMP.value.(R))\n",
    "    else\n",
    "        println(\"Optimize was not succesful. Return code: \", termination_status(myModel))\n",
    "    end\n",
    "end\n",
    "\n",
    "solveIP(H,K)"
   ]
  }
 ],
 "metadata": {
  "kernelspec": {
   "display_name": "Julia 1.11.1",
   "language": "julia",
   "name": "julia-1.11"
  },
  "language_info": {
   "file_extension": ".jl",
   "mimetype": "application/julia",
   "name": "julia",
   "version": "1.11.1"
  }
 },
 "nbformat": 4,
 "nbformat_minor": 5
}
