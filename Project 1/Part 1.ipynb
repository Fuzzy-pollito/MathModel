{
 "cells": [
  {
   "metadata": {
    "ExecuteTime": {
     "end_time": "2025-02-18T07:47:01.948327Z",
     "start_time": "2025-02-18T07:47:01.225430Z"
    }
   },
   "cell_type": "code",
   "source": [
    "import numpy as np\n",
    "import imageio.v3 as iio\n",
    "%matplotlib qt\n",
    "import matplotlib.pyplot as plt\n",
    "import os"
   ],
   "id": "d3d95c8125ac63f4",
   "outputs": [],
   "execution_count": 1
  },
  {
   "metadata": {},
   "cell_type": "markdown",
   "source": "# Problem 1",
   "id": "818327ce785905b"
  },
  {
   "metadata": {
    "ExecuteTime": {
     "end_time": "2025-02-18T07:47:02.126279Z",
     "start_time": "2025-02-18T07:47:01.989758Z"
    }
   },
   "cell_type": "code",
   "source": [
    "# Folder containing images\n",
    "folder_path = \"/Users/mikkelherskindgudmandsen/PycharmProjects/02526_Mathematical_Modeling/toyProblem_F22\"\n",
    "\n",
    "# Get list of PNG files (sorted for consistency)\n",
    "image_files = sorted([f for f in os.listdir(folder_path) if f.endswith(\".png\")])\n",
    "\n",
    "# Load images as grayscale and stack them into a 3D NumPy array\n",
    "images = np.array([iio.imread(os.path.join(folder_path, f), mode=\"L\") / 255.0 for f in image_files])\n",
    "\n",
    "print(images.shape)  # (num_images, height, width)"
   ],
   "id": "4b279e35c3fa9eaf",
   "outputs": [
    {
     "name": "stdout",
     "output_type": "stream",
     "text": [
      "(64, 256, 256)\n"
     ]
    }
   ],
   "execution_count": 2
  },
  {
   "metadata": {
    "ExecuteTime": {
     "end_time": "2025-02-18T07:47:04.940081Z",
     "start_time": "2025-02-18T07:47:02.802339Z"
    }
   },
   "cell_type": "code",
   "source": [
    "plt.ion()  # Turn on interactive mode'\n",
    "\n",
    "plt.figure()\n",
    "for frame in images:\n",
    "    plt.imshow(frame, cmap=\"gray\")  # Display the current frame\n",
    "    plt.axis(\"off\")  # Hide axes\n",
    "    plt.pause(0.02)  # Pause for 50ms\n",
    "    plt.clf()  # Clear figure for next frame\n",
    "\n",
    "plt.ioff()  # Turn off interactive mode\n",
    "plt.show()  # Show the final figure"
   ],
   "id": "c21972af1e19c5b5",
   "outputs": [
    {
     "name": "stderr",
     "output_type": "stream",
     "text": [
      "2025-02-18 08:47:03.148 Python[79210:1837483] +[IMKClient subclass]: chose IMKClient_Modern\n",
      "2025-02-18 08:47:03.148 Python[79210:1837483] +[IMKInputSession subclass]: chose IMKInputSession_Modern\n"
     ]
    }
   ],
   "execution_count": 3
  },
  {
   "metadata": {},
   "cell_type": "code",
   "outputs": [],
   "execution_count": null,
   "source": "",
   "id": "8901f4c9614f809b"
  }
 ],
 "metadata": {
  "kernelspec": {
   "display_name": "Python 3",
   "language": "python",
   "name": "python3"
  },
  "language_info": {
   "codemirror_mode": {
    "name": "ipython",
    "version": 2
   },
   "file_extension": ".py",
   "mimetype": "text/x-python",
   "name": "python",
   "nbconvert_exporter": "python",
   "pygments_lexer": "ipython2",
   "version": "2.7.6"
  }
 },
 "nbformat": 4,
 "nbformat_minor": 5
}
